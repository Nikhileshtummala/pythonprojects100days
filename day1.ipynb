{
 "cells": [
  {
   "cell_type": "code",
   "execution_count": 1,
   "id": "51fa6ba1-3da7-4545-a4b1-ba2b2f2e6169",
   "metadata": {},
   "outputs": [
    {
     "name": "stdout",
     "output_type": "stream",
     "text": [
      "hello world\n"
     ]
    }
   ],
   "source": [
    "print(\"hello world\")"
   ]
  },
  {
   "cell_type": "code",
   "execution_count": 2,
   "id": "8f98433e-6845-4582-9e49-a26a294cfedc",
   "metadata": {},
   "outputs": [
    {
     "name": "stdout",
     "output_type": "stream",
     "text": [
      "11\n"
     ]
    }
   ],
   "source": [
    "a=5\n",
    "b=6\n",
    "print(a+b)\n"
   ]
  },
  {
   "cell_type": "code",
   "execution_count": 1,
   "id": "a150184d-f206-4c58-a0d8-e93bde237562",
   "metadata": {},
   "outputs": [
    {
     "name": "stdout",
     "output_type": "stream",
     "text": [
      "hello! greeting\n"
     ]
    },
    {
     "name": "stdin",
     "output_type": "stream",
     "text": [
      "city you grewup in hyd\n",
      "enter your pet name sheero\n"
     ]
    },
    {
     "name": "stdout",
     "output_type": "stream",
     "text": [
      "your band name is: hydsheero\n"
     ]
    }
   ],
   "source": [
    "print(\"hello! greeting\")\n",
    "a = input(\"city you grewup in\")\n",
    "b = input(\"enter your pet name\")\n",
    "c = a + b\n",
    "print(\"your band name is:\", c)"
   ]
  },
  {
   "cell_type": "code",
   "execution_count": 7,
   "id": "284f895e-2bfb-4822-af23-8d1674380c7f",
   "metadata": {},
   "outputs": [
    {
     "name": "stdout",
     "output_type": "stream",
     "text": [
      "welcome to tip calci\n"
     ]
    },
    {
     "name": "stdin",
     "output_type": "stream",
     "text": [
      "what was the total bill? 5000\n",
      "what percent of tip you u like to give? 10, 12 or 15? 15\n",
      "how many people are splitting the bill? 5\n"
     ]
    },
    {
     "name": "stdout",
     "output_type": "stream",
     "text": [
      "bill paid by each individual is: 1150.0\n"
     ]
    }
   ],
   "source": [
    "print(\"welcome to tip calci\")\n",
    "a = float(input(\"what was the total bill?\"))\n",
    "b = float(input(\"what percent of tip you u like to give? 10, 12 or 15?\"))\n",
    "c = int(input(\"how many people are splitting the bill?\"))\n",
    "d =  (b/100)*a\n",
    "t = (a+d)/c\n",
    "print(\"bill paid by each individual is:\", t)"
   ]
  },
  {
   "cell_type": "code",
   "execution_count": null,
   "id": "888b63c4-d20a-42a7-b9f0-dcf5bc97bd8b",
   "metadata": {},
   "outputs": [],
   "source": []
  }
 ],
 "metadata": {
  "kernelspec": {
   "display_name": "Python 3 (ipykernel)",
   "language": "python",
   "name": "python3"
  },
  "language_info": {
   "codemirror_mode": {
    "name": "ipython",
    "version": 3
   },
   "file_extension": ".py",
   "mimetype": "text/x-python",
   "name": "python",
   "nbconvert_exporter": "python",
   "pygments_lexer": "ipython3",
   "version": "3.11.5"
  }
 },
 "nbformat": 4,
 "nbformat_minor": 5
}
